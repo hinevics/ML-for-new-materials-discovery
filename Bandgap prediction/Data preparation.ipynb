{
 "cells": [
  {
   "cell_type": "code",
   "execution_count": 1,
   "metadata": {},
   "outputs": [],
   "source": [
    "# библиотеки\n",
    "import pandas as pd\n",
    "import numpy as np"
   ]
  },
  {
   "cell_type": "code",
   "execution_count": 46,
   "metadata": {},
   "outputs": [],
   "source": [
    "work_link = {\n",
    "    'elements': r'D:\\Development\\ML for new materials discovery\\Bandgap prediction\\Data\\Elements\\elements for ML.csv',\n",
    "    'bandgap': r'D:\\Development\\ML for new materials discovery\\Bandgap prediction\\Data\\Bandgap oxides and nitrides only.csv',\n",
    "    'interaction data nitrides': r'D:\\Development\\ML for new materials discovery\\Bandgap prediction\\Data\\interaction data nitrides.csv',\n",
    "    'interaction data oxides': r'D:\\Development\\ML for new materials discovery\\Bandgap prediction\\Data\\interaction data oxides.csv',\n",
    "    'oxides and nitrides  for predict': r'D:\\Development\\ML for new materials discovery\\Bandgap prediction\\Data\\oxides and nitrides  for predict.csv'\n",
    "}"
   ]
  },
  {
   "cell_type": "code",
   "execution_count": 20,
   "metadata": {},
   "outputs": [],
   "source": [
    "elements = pd.read_csv(filepath_or_buffer=work_link['elements'], index_col='Symbol')"
   ]
  },
  {
   "cell_type": "code",
   "execution_count": 28,
   "metadata": {},
   "outputs": [],
   "source": [
    "bandgap = pd.read_csv(filepath_or_buffer=work_link['bandgap'])"
   ]
  },
  {
   "cell_type": "code",
   "execution_count": 43,
   "metadata": {},
   "outputs": [],
   "source": [
    "interaction_data_nitrides = pd.read_csv(filepath_or_buffer=work_link['interaction data nitrides'], sep=';',index_col='Example')"
   ]
  },
  {
   "cell_type": "code",
   "execution_count": 44,
   "metadata": {},
   "outputs": [],
   "source": [
    "interaction_data_oxides = pd.read_csv(filepath_or_buffer=work_link['interaction data oxides'], sep=';', index_col='Example')"
   ]
  },
  {
   "cell_type": "code",
   "execution_count": 51,
   "metadata": {},
   "outputs": [],
   "source": [
    "oxides_and_nitrides_for_predict = pd.read_csv(filepath_or_buffer=work_link['oxides and nitrides  for predict'])"
   ]
  },
  {
   "cell_type": "code",
   "execution_count": null,
   "metadata": {},
   "outputs": [],
   "source": []
  }
 ],
 "metadata": {
  "kernelspec": {
   "display_name": "Python 3",
   "language": "python",
   "name": "python3"
  },
  "language_info": {
   "codemirror_mode": {
    "name": "ipython",
    "version": 3
   },
   "file_extension": ".py",
   "mimetype": "text/x-python",
   "name": "python",
   "nbconvert_exporter": "python",
   "pygments_lexer": "ipython3",
   "version": "3.7.0"
  }
 },
 "nbformat": 4,
 "nbformat_minor": 4
}
