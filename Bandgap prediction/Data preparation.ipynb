{
 "cells": [
  {
   "cell_type": "code",
   "execution_count": 66,
   "metadata": {},
   "outputs": [],
   "source": [
    "# библиотеки\n",
    "import pandas as pd\n",
    "import numpy as np\n",
    "import re"
   ]
  },
  {
   "cell_type": "code",
   "execution_count": 67,
   "metadata": {},
   "outputs": [],
   "source": [
    "work_link = {\n",
    "    'elements': r'..\\Bandgap prediction\\Data\\Elements\\elements for ML.csv',\n",
    "    'bandgap': r'D:..\\Bandgap prediction\\Data\\Bandgap oxides and nitrides only.csv',\n",
    "    'interaction data nitrides': r'..\\Bandgap prediction\\Data\\interaction data nitrides.csv',\n",
    "    'interaction data oxides': r'D:..\\Bandgap prediction\\Data\\interaction data oxides.csv',\n",
    "    'oxides and nitrides  for predict': r'D:..\\Bandgap prediction\\Data\\oxides and nitrides  for predict.csv'\n",
    "}"
   ]
  },
  {
   "cell_type": "code",
   "execution_count": 68,
   "metadata": {},
   "outputs": [],
   "source": [
    "elements = pd.read_csv(filepath_or_buffer=work_link['elements'], index_col='Symbol')"
   ]
  },
  {
   "cell_type": "code",
   "execution_count": 69,
   "metadata": {},
   "outputs": [],
   "source": [
    "compound = pd.read_csv(filepath_or_buffer=work_link['bandgap'])\n",
    "compound.rename(columns={'Compound;Band_gap':'Band_gap'}, inplace=True)\n",
    "compound.index = map(lambda x: re.sub(pattern=';', repl='', string=x), compound.index)"
   ]
  },
  {
   "cell_type": "code",
   "execution_count": 70,
   "metadata": {},
   "outputs": [],
   "source": [
    "interaction_data_nitrides = pd.read_csv(filepath_or_buffer=work_link['interaction data nitrides'], sep=';',index_col='Example')"
   ]
  },
  {
   "cell_type": "code",
   "execution_count": 71,
   "metadata": {},
   "outputs": [],
   "source": [
    "interaction_data_oxides = pd.read_csv(filepath_or_buffer=work_link['interaction data oxides'], sep=';', index_col='Example')"
   ]
  },
  {
   "cell_type": "code",
   "execution_count": 72,
   "metadata": {},
   "outputs": [],
   "source": [
    "compound_for_predict = pd.read_csv(filepath_or_buffer=work_link['oxides and nitrides  for predict'])\n",
    "compound_for_predict.rename(columns={'Compound;;;;;':'Compound'}, inplace=True)\n",
    "compound_for_predict.Compound = [i for i in map(lambda x: re.sub(pattern=';', repl='', string=x), compound_for_predict.Compound.values)]"
   ]
  },
  {
   "cell_type": "code",
   "execution_count": 73,
   "metadata": {},
   "outputs": [],
   "source": [
    "m = compound.Band_gap.isna()"
   ]
  },
  {
   "cell_type": "code",
   "execution_count": 74,
   "metadata": {},
   "outputs": [
    {
     "data": {
      "text/plain": [
       "FeWO42       True\n",
       "ZnSb2O63     True\n",
       "Sr2TiO44     True\n",
       "Cd2SnO42     True\n",
       "ZnB2O43      True\n",
       "Sn2Ta2O73    True\n",
       "CaCO36       True\n",
       "CdSnO33      True\n",
       "MgNb2O64     True\n",
       "Ca3B2N44     True\n",
       "Name: Band_gap, dtype: bool"
      ]
     },
     "execution_count": 74,
     "metadata": {},
     "output_type": "execute_result"
    }
   ],
   "source": [
    "m[m == True]"
   ]
  },
  {
   "cell_type": "code",
   "execution_count": 58,
   "metadata": {},
   "outputs": [
    {
     "data": {
      "text/html": [
       "<div>\n",
       "<style scoped>\n",
       "    .dataframe tbody tr th:only-of-type {\n",
       "        vertical-align: middle;\n",
       "    }\n",
       "\n",
       "    .dataframe tbody tr th {\n",
       "        vertical-align: top;\n",
       "    }\n",
       "\n",
       "    .dataframe thead th {\n",
       "        text-align: right;\n",
       "    }\n",
       "</style>\n",
       "<table border=\"1\" class=\"dataframe\">\n",
       "  <thead>\n",
       "    <tr style=\"text-align: right;\">\n",
       "      <th></th>\n",
       "      <th>Band_gap</th>\n",
       "    </tr>\n",
       "  </thead>\n",
       "  <tbody>\n",
       "    <tr>\n",
       "      <th>Mn2SiO43</th>\n",
       "      <td>25.0</td>\n",
       "    </tr>\n",
       "    <tr>\n",
       "      <th>Mn4SiO71</th>\n",
       "      <td>52.0</td>\n",
       "    </tr>\n",
       "    <tr>\n",
       "      <th>Mn7SiO123</th>\n",
       "      <td>15.0</td>\n",
       "    </tr>\n",
       "    <tr>\n",
       "      <th>AlSi2O59</th>\n",
       "      <td>1.0</td>\n",
       "    </tr>\n",
       "    <tr>\n",
       "      <th>Fe2SiO47</th>\n",
       "      <td>8.0</td>\n",
       "    </tr>\n",
       "    <tr>\n",
       "      <th>...</th>\n",
       "      <td>...</td>\n",
       "    </tr>\n",
       "    <tr>\n",
       "      <th>Ca2ZnN21</th>\n",
       "      <td>9.0</td>\n",
       "    </tr>\n",
       "    <tr>\n",
       "      <th>CaZn2N21</th>\n",
       "      <td>9.0</td>\n",
       "    </tr>\n",
       "    <tr>\n",
       "      <th>Li3ScN22</th>\n",
       "      <td>9.0</td>\n",
       "    </tr>\n",
       "    <tr>\n",
       "      <th>NaSnN2</th>\n",
       "      <td>5.0</td>\n",
       "    </tr>\n",
       "    <tr>\n",
       "      <th>LiMgN3</th>\n",
       "      <td>12.0</td>\n",
       "    </tr>\n",
       "  </tbody>\n",
       "</table>\n",
       "<p>318 rows × 1 columns</p>\n",
       "</div>"
      ],
      "text/plain": [
       "           Band_gap\n",
       "Mn2SiO43       25.0\n",
       "Mn4SiO71       52.0\n",
       "Mn7SiO123      15.0\n",
       "AlSi2O59        1.0\n",
       "Fe2SiO47        8.0\n",
       "...             ...\n",
       "Ca2ZnN21        9.0\n",
       "CaZn2N21        9.0\n",
       "Li3ScN22        9.0\n",
       "NaSnN2          5.0\n",
       "LiMgN3         12.0\n",
       "\n",
       "[318 rows x 1 columns]"
      ]
     },
     "execution_count": 58,
     "metadata": {},
     "output_type": "execute_result"
    }
   ],
   "source": [
    "compound"
   ]
  },
  {
   "cell_type": "code",
   "execution_count": null,
   "metadata": {},
   "outputs": [],
   "source": []
  }
 ],
 "metadata": {
  "kernelspec": {
   "display_name": "Python 3",
   "language": "python",
   "name": "python3"
  },
  "language_info": {
   "codemirror_mode": {
    "name": "ipython",
    "version": 3
   },
   "file_extension": ".py",
   "mimetype": "text/x-python",
   "name": "python",
   "nbconvert_exporter": "python",
   "pygments_lexer": "ipython3",
   "version": "3.7.0"
  }
 },
 "nbformat": 4,
 "nbformat_minor": 4
}
